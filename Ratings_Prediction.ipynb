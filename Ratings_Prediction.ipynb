{
 "cells": [
  {
   "cell_type": "markdown",
   "metadata": {},
   "source": [
    "### Steps To Follow :\n",
    "\n",
    "A new project is allocated and the project name is Ratings Prediction Project.\n",
    "\n",
    "The attached zipped folder contains the below-listed files:\n",
    "\n",
    "1. Problem Statement: This contains the problem statement and business goal\n",
    "\n",
    "2. Sample documentation: This is a sample report\n",
    "\n",
    "In this project, you need to first collect the data and then build a model on that to predict the ratings.\n",
    "\n",
    "Submission format: The project submission folder should contain the below listed five files:\n",
    "\n",
    "1. Zipped file of your data directory containing the excel sheet\n",
    "\n",
    "2. Web Scraping script used for scraping the ratings\n",
    "\n",
    "3. The jupyter notebook that contains the model building section\n",
    "\n",
    "4. The project report in pdf format\n",
    "\n",
    "5. A PowerPoint presentation for the project\n",
    "\n",
    "Note: Make a new repository on GitHub and upload all files it and share the link with me through messages.\n",
    "\n",
    "Submission Deadline: The deadline for the submission is Thursday, 05-08-2021, at 11:59 PM via the Github link.\n",
    "\n",
    "Please reach out, in case if you have any queries."
   ]
  },
  {
   "cell_type": "code",
   "execution_count": 1,
   "metadata": {},
   "outputs": [],
   "source": [
    "# Need to fetch data from different website"
   ]
  },
  {
   "cell_type": "code",
   "execution_count": null,
   "metadata": {},
   "outputs": [],
   "source": []
  }
 ],
 "metadata": {
  "kernelspec": {
   "display_name": "Python 3",
   "language": "python",
   "name": "python3"
  },
  "language_info": {
   "codemirror_mode": {
    "name": "ipython",
    "version": 3
   },
   "file_extension": ".py",
   "mimetype": "text/x-python",
   "name": "python",
   "nbconvert_exporter": "python",
   "pygments_lexer": "ipython3",
   "version": "3.8.5"
  }
 },
 "nbformat": 4,
 "nbformat_minor": 4
}
