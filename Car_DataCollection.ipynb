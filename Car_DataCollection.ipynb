{
 "cells": [
  {
   "cell_type": "markdown",
   "metadata": {},
   "source": [
    "## Problem Statement\n",
    "\n",
    "You have to scrape at least 5000 used cars data. You can scrape more data as well, it’s up to you. more the data better the model\n",
    "In this section You need to scrape the data of used cars from websites (Olx, cardekho, Cars24 etc.) You need web scraping for this. You have to fetch data for different locations. The number of\n",
    "columns for data doesn’t have limit, it’s up to you and your creativity. Generally, these columns are Brand, model, variant, manufacturing year, driven kilometers, fuel, number of owners, location and at last target variable Price of the car. This data is to give you a hint about important variables in used car model. You can make changes to it, you can add or you can remove some columns, it completely depends on the website from which you are fetching the data.\n",
    "Try to include all types of cars in your data for example- SUV, Sedans, Coupe, minivan, Hatchback.\n",
    "Note – The data which you are collecting is important to us. Kindly don’t share it on any public platforms."
   ]
  },
  {
   "cell_type": "markdown",
   "metadata": {},
   "source": [
    "### Reference \n",
    "    Olx, cardekho, Cars24\n",
    "    Different location\n",
    "    Brand, model, variant, manufacturing year, driven kilometers, fuel, number of owners, location and at last target variable Price\n",
    "    car model -SUV, Sedans, Coupe, minivan, Hatchback.\n",
    "    \n",
    "    \n",
    "### Problem faced \n",
    "\n",
    "1. SessionNotCreatedException - currect chrome browser is upgraded one no downloaded suitable chrome driver to access chrome browser\n",
    "\n",
    "2. "
   ]
  },
  {
   "cell_type": "code",
   "execution_count": 1,
   "metadata": {},
   "outputs": [],
   "source": [
    "#importing required libraries\n",
    "import selenium\n",
    "import time\n",
    "import pandas as pd\n",
    "from selenium import webdriver\n",
    "\n",
    "# Exception handling library\n",
    "from selenium.common.exceptions import NoSuchElementException,StaleElementReferenceException"
   ]
  },
  {
   "cell_type": "code",
   "execution_count": 2,
   "metadata": {},
   "outputs": [],
   "source": [
    "# Require Data\n",
    "olx_Car = {}\n",
    "olx_Car[\"Brand\"] = []\n",
    "olx_Car[\"Model\"] = []\n",
    "olx_Car[\"Variant\"] = []\n",
    "olx_Car[\"Year\"] = []\n",
    "olx_Car[\"driven kilometers\"] =[]\n",
    "olx_Car[\"fuel\"] = []\n",
    "olx_Car[\"Transmission\"] = []\n",
    "olx_Car[\"number of owners\"] =[] \n",
    "olx_Car[\"location\"] = []\n",
    "olx_Car[\"Price\"] = []"
   ]
  },
  {
   "cell_type": "code",
   "execution_count": null,
   "metadata": {},
   "outputs": [],
   "source": [
    "# Activating the chrome browser\n",
    "driver=webdriver.Chrome(\"chromedriver.exe\")\n",
    "time.sleep(2)\n",
    "\n",
    "# Opening olx website\n",
    "url = \"https://www.olx.in/\"\n",
    "driver.get(url)\n",
    "time.sleep(2)\n",
    "\n",
    "#Navigating to car section\n",
    "driver.find_element_by_xpath(\"/html/body/div[1]/div/div[1]/div/div/div[1]/div[2]/div[1]/a/span\").click()"
   ]
  },
  {
   "cell_type": "code",
   "execution_count": 28,
   "metadata": {},
   "outputs": [
    {
     "name": "stdout",
     "output_type": "stream",
     "text": [
      "Fully loaded <class 'Exception'>\n"
     ]
    }
   ],
   "source": [
    "car_url = [] #empty list to store the each car URL\n",
    "run = True\n",
    "\n",
    "while run:\n",
    "    # if no content is avilable exception will be raised we need to handle this using try block\n",
    "    try:\n",
    "        for i in range(0,10):\n",
    "            #loading full page\n",
    "            driver.execute_script(\"window.scrollBy(0,10000)\")\n",
    "            time.sleep(2)\n",
    "            driver.find_element_by_xpath(\"//button[@class='rui-39-wj rui-3evoE rui-1JPTg']\").click()\n",
    "    except Exception:\n",
    "        print(\"Fully loaded\",Exception)\n",
    "\n",
    "    url_car = driver.find_elements_by_xpath(\"//li[@class='EIR5N']/a\")\n",
    "    time.sleep(1)\n",
    "\n",
    "    for i in url_car:\n",
    "        car_url.append(i.get_attribute('href'))\n",
    "    else:\n",
    "        run = False"
   ]
  },
  {
   "cell_type": "code",
   "execution_count": 46,
   "metadata": {
    "scrolled": true
   },
   "outputs": [],
   "source": [
    "#Getting cardataset from the url\n",
    "\n",
    "for i in set(car_url):\n",
    "    \n",
    "    driver.get(i)\n",
    "    \n",
    "    #Brand\n",
    "    try:\n",
    "        brand = driver.find_element_by_xpath(\"//div[@class='_3JPEe']/div[1]/div/span[2]\").text\n",
    "        olx_Car['Brand'].append(brand)\n",
    "    except:\n",
    "        olx_Car['Brand'].append(\"-\")\n",
    "    \n",
    "    #Model\n",
    "    try:\n",
    "        model = driver.find_element_by_xpath(\"//div[@class='_3JPEe']/div[2]/div/span[2]\").text\n",
    "        olx_Car['Model'].append(model)\n",
    "    except:\n",
    "        olx_Car['Model'].append(\"-\")\n",
    "        \n",
    "    #Variant\n",
    "    try:\n",
    "        variant = driver.find_element_by_xpath(\"//div[@class='_3JPEe']/div[3]/div/span[2]\").text\n",
    "        olx_Car['Variant'].append(variant)\n",
    "    except:\n",
    "        olx_Car['Variant'].append(\"-\")\n",
    "        \n",
    "    #Year\n",
    "    try:\n",
    "        year = driver.find_element_by_xpath(\"//div[@class='_3JPEe']/div[4]/div/span[2]\").text\n",
    "        olx_Car['Year'].append(year)\n",
    "    except:\n",
    "        olx_Car['Year'].append(\"-\")\n",
    "        \n",
    "    #fuel\n",
    "    try:\n",
    "        fuel = driver.find_element_by_xpath(\"//div[@class='_3JPEe']/div[5]/div/span[2]\").text\n",
    "        olx_Car['fuel'].append(fuel)\n",
    "    except:\n",
    "        olx_Car['fuel'].append(\"-\")\n",
    "\n",
    "    #transmission\n",
    "    try:\n",
    "        transmission = driver.find_element_by_xpath(\"//div[@class='_3JPEe']/div[6]/div/span[2]\").text\n",
    "        olx_Car['Transmission'].append(transmission)\n",
    "    except:\n",
    "        olx_Car['Transmission'].append(\"-\")\n",
    "\n",
    "    #km\n",
    "    try:\n",
    "        km = driver.find_element_by_xpath(\"//div[@class='_3JPEe']/div[7]/div/span[2]\").text\n",
    "        olx_Car['driven kilometers'].append(km)\n",
    "    except:\n",
    "        olx_Car['driven kilometers'].append(\"-\")\n",
    "    \n",
    "    #owner\n",
    "    try:\n",
    "        owner = driver.find_element_by_xpath(\"//div[@class='_3JPEe']/div[8]/div/span[2]\").text\n",
    "        olx_Car['number of owners'].append(owner)\n",
    "    except:\n",
    "        olx_Car['number of owners'].append(\"-\")\n",
    "    \n",
    "    #location\n",
    "    try:\n",
    "        loc = driver.find_element_by_xpath(\"//div[@data-aut-id='itemLocation']/div/span\").text\n",
    "        olx_Car['location'].append(loc)\n",
    "    except:\n",
    "        olx_Car['location'].append(\"-\")\n",
    "        \n",
    "    #price\n",
    "    try:\n",
    "        price = driver.find_element_by_xpath(\"//section[@class='_2wMiF']/span[1]\").text\n",
    "        olx_Car['Price'].append(price)\n",
    "    except:\n",
    "        olx_Car['Price'].append(\"-\")"
   ]
  },
  {
   "cell_type": "code",
   "execution_count": null,
   "metadata": {},
   "outputs": [],
   "source": [
    "# Empty list to store the data\n",
    "url_car = []"
   ]
  },
  {
   "cell_type": "code",
   "execution_count": null,
   "metadata": {},
   "outputs": [],
   "source": [
    "# Activating the chrome browser\n",
    "driver=webdriver.Chrome(\"chromedriver.exe\")\n",
    "time.sleep(2)\n",
    "\n",
    "# Opening olx website\n",
    "url = \"https://www.cardekho.com/\"\n",
    "driver.get(url)\n",
    "time.sleep(2)\n",
    "\n",
    "# Navigate to usercar\n",
    "used_car_menu = driver.find_element_by_xpath(\"//ul[@data-track-section='MainMenu']/li[2]\")\n",
    "used_car_menu.click()"
   ]
  },
  {
   "cell_type": "code",
   "execution_count": 14,
   "metadata": {},
   "outputs": [],
   "source": [
    "# Citywise dataset\n",
    "try:\n",
    "    search = driver.find_element_by_xpath(\"//input[@class='typeaheads pac-target-input']\")\n",
    "    search.clear()\n",
    "    search.send_keys(city)\n",
    "\n",
    "    Search_btn = driver.find_element_by_xpath(\"//div[@class='DetectLocation append_list  OnlyButton']/div/button\")\n",
    "    Search_btn.click()\n",
    "except:\n",
    "    driver.find_element_by_xpath(\"//div[@class='inputfield']/input\").click()\n",
    "    time.sleep(1)\n",
    "    \n",
    "    search = driver.find_element_by_xpath(\"//input[@class='typeaheads pac-target-input']\")\n",
    "    search.clear()\n",
    "    \n",
    "    city = driver.find_element_by_xpath(\"//ul[@class='listing gsc_col-md-12 gsc_col-lg-12']/li[1]/a/span[1]\")\n",
    "    city.click()\n",
    "#     search = driver.find_element_by_xpath(\"//input[@class='typeaheads pac-target-input']\")\n",
    "#     search.clear()\n",
    "#     search.send_keys(city)\n",
    "\n",
    "#     Search_btn = driver.find_element_by_xpath(\"//div[@class='DetectLocation append_list  OnlyButton']/div/button\")\n",
    "#     Search_btn.click()"
   ]
  },
  {
   "cell_type": "code",
   "execution_count": 15,
   "metadata": {},
   "outputs": [],
   "source": [
    "# Scrap all required detail\n",
    "lst = []\n",
    "for i in driver.find_elements_by_xpath(\"//div[@class='gsc_col-xs-7 carsName']/a\"):\n",
    "    lst.append(i.get_attribute('href'))"
   ]
  },
  {
   "cell_type": "code",
   "execution_count": 17,
   "metadata": {},
   "outputs": [],
   "source": [
    "for i in lst:\n",
    "    driver.get(i)"
   ]
  },
  {
   "cell_type": "code",
   "execution_count": 26,
   "metadata": {},
   "outputs": [],
   "source": [
    "loop =0\n",
    "while loop < 10:\n",
    "    driver.execute_script(\"window.scrollBy(0,1000)\")\n",
    "    loop +=1"
   ]
  },
  {
   "cell_type": "code",
   "execution_count": 27,
   "metadata": {},
   "outputs": [],
   "source": [
    "lst = []\n",
    "for i in driver.find_elements_by_xpath(\"//div[@class='gsc_col-xs-7 carsName']/a\"):\n",
    "    lst.append(i.get_attribute('href'))"
   ]
  },
  {
   "cell_type": "code",
   "execution_count": 28,
   "metadata": {},
   "outputs": [
    {
     "data": {
      "text/plain": [
       "120"
      ]
     },
     "execution_count": 28,
     "metadata": {},
     "output_type": "execute_result"
    }
   ],
   "source": [
    "len(lst)"
   ]
  },
  {
   "cell_type": "code",
   "execution_count": 30,
   "metadata": {},
   "outputs": [
    {
     "data": {
      "text/plain": [
       "115"
      ]
     },
     "execution_count": 30,
     "metadata": {},
     "output_type": "execute_result"
    }
   ],
   "source": [
    "len(set(lst))"
   ]
  },
  {
   "cell_type": "code",
   "execution_count": null,
   "metadata": {},
   "outputs": [],
   "source": []
  }
 ],
 "metadata": {
  "kernelspec": {
   "display_name": "Python 3",
   "language": "python",
   "name": "python3"
  },
  "language_info": {
   "codemirror_mode": {
    "name": "ipython",
    "version": 3
   },
   "file_extension": ".py",
   "mimetype": "text/x-python",
   "name": "python",
   "nbconvert_exporter": "python",
   "pygments_lexer": "ipython3",
   "version": "3.8.5"
  }
 },
 "nbformat": 4,
 "nbformat_minor": 4
}
