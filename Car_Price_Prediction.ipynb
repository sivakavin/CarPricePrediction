{
 "cells": [
  {
   "cell_type": "markdown",
   "metadata": {},
   "source": [
    "## Problem Statement\n",
    "\n",
    "After collecting the data, you need to build a machine learning model. Before model building do all data pre-processing steps. Try different models with different hyper parameters and select the best model.\n",
    "Follow the complete life cycle of data science. Include all the steps like.\n",
    "1. Data Cleaning\n",
    "2. Exploratory Data Analysis\n",
    "3. Data Pre-processing\n",
    "4. Model Building\n",
    "5. Model Evaluation\n",
    "6. Selecting the best model"
   ]
  },
  {
   "cell_type": "code",
   "execution_count": 1,
   "metadata": {},
   "outputs": [],
   "source": [
    "#importing required lib\n",
    "\n",
    "import pandas as pd\n",
    "import numpy as np\n",
    "import matplotlib.pyplot as plt\n",
    "import seaborn as sns\n"
   ]
  },
  {
   "cell_type": "code",
   "execution_count": 2,
   "metadata": {},
   "outputs": [
    {
     "data": {
      "text/html": [
       "<div>\n",
       "<style scoped>\n",
       "    .dataframe tbody tr th:only-of-type {\n",
       "        vertical-align: middle;\n",
       "    }\n",
       "\n",
       "    .dataframe tbody tr th {\n",
       "        vertical-align: top;\n",
       "    }\n",
       "\n",
       "    .dataframe thead th {\n",
       "        text-align: right;\n",
       "    }\n",
       "</style>\n",
       "<table border=\"1\" class=\"dataframe\">\n",
       "  <thead>\n",
       "    <tr style=\"text-align: right;\">\n",
       "      <th></th>\n",
       "      <th>Brand</th>\n",
       "      <th>Model</th>\n",
       "      <th>Variant</th>\n",
       "      <th>Year</th>\n",
       "      <th>driven kilometers</th>\n",
       "      <th>fuel</th>\n",
       "      <th>Transmission</th>\n",
       "      <th>number of owners</th>\n",
       "      <th>location</th>\n",
       "      <th>Price</th>\n",
       "    </tr>\n",
       "  </thead>\n",
       "  <tbody>\n",
       "    <tr>\n",
       "      <th>0</th>\n",
       "      <td>Ford</td>\n",
       "      <td>Figo</td>\n",
       "      <td>2010-2012 Diesel ZXI</td>\n",
       "      <td>2010</td>\n",
       "      <td>90,000 km</td>\n",
       "      <td>Diesel</td>\n",
       "      <td>Manual</td>\n",
       "      <td>2nd</td>\n",
       "      <td>Ram Krishna Nagar, Vijayawada, Andhra Pradesh</td>\n",
       "      <td>₹ 2,15,000</td>\n",
       "    </tr>\n",
       "    <tr>\n",
       "      <th>1</th>\n",
       "      <td>Ford</td>\n",
       "      <td>Ecosport</td>\n",
       "      <td>1.5 Petrol Ambiente</td>\n",
       "      <td>2015</td>\n",
       "      <td>38,000 km</td>\n",
       "      <td>Petrol</td>\n",
       "      <td>Manual</td>\n",
       "      <td>1st</td>\n",
       "      <td>Phule Nagar, Pune, Maharashtra</td>\n",
       "      <td>₹ 5,75,000</td>\n",
       "    </tr>\n",
       "    <tr>\n",
       "      <th>2</th>\n",
       "      <td>Maruti Suzuki</td>\n",
       "      <td>Wagon R</td>\n",
       "      <td>2006-2010 VXI Minor</td>\n",
       "      <td>2009</td>\n",
       "      <td>58,720 km</td>\n",
       "      <td>Petrol</td>\n",
       "      <td>Manual</td>\n",
       "      <td>1st</td>\n",
       "      <td>Manuti, Thrissur, Kerala</td>\n",
       "      <td>₹ 2,45,000</td>\n",
       "    </tr>\n",
       "    <tr>\n",
       "      <th>3</th>\n",
       "      <td>Hyundai</td>\n",
       "      <td>Fluidic Verna</td>\n",
       "      <td>1.6 CRDi SX</td>\n",
       "      <td>2018</td>\n",
       "      <td>55,000 km</td>\n",
       "      <td>Diesel</td>\n",
       "      <td>Manual</td>\n",
       "      <td>1st</td>\n",
       "      <td>Usmanpura, Ahmedabad, Gujarat</td>\n",
       "      <td>₹ 9,49,999</td>\n",
       "    </tr>\n",
       "    <tr>\n",
       "      <th>4</th>\n",
       "      <td>Maruti Suzuki</td>\n",
       "      <td>Swift Dzire</td>\n",
       "      <td>VXI</td>\n",
       "      <td>2015</td>\n",
       "      <td>57,091 km</td>\n",
       "      <td>Petrol</td>\n",
       "      <td>Manual</td>\n",
       "      <td>2nd</td>\n",
       "      <td>Ezhamkulam, Adoor, Kerala</td>\n",
       "      <td>₹ 4,95,000</td>\n",
       "    </tr>\n",
       "  </tbody>\n",
       "</table>\n",
       "</div>"
      ],
      "text/plain": [
       "           Brand          Model               Variant  Year driven kilometers  \\\n",
       "0           Ford           Figo  2010-2012 Diesel ZXI  2010         90,000 km   \n",
       "1           Ford       Ecosport   1.5 Petrol Ambiente  2015         38,000 km   \n",
       "2  Maruti Suzuki        Wagon R   2006-2010 VXI Minor  2009         58,720 km   \n",
       "3        Hyundai  Fluidic Verna           1.6 CRDi SX  2018         55,000 km   \n",
       "4  Maruti Suzuki    Swift Dzire                   VXI  2015         57,091 km   \n",
       "\n",
       "     fuel Transmission number of owners  \\\n",
       "0  Diesel       Manual              2nd   \n",
       "1  Petrol       Manual              1st   \n",
       "2  Petrol       Manual              1st   \n",
       "3  Diesel       Manual              1st   \n",
       "4  Petrol       Manual              2nd   \n",
       "\n",
       "                                        location       Price  \n",
       "0  Ram Krishna Nagar, Vijayawada, Andhra Pradesh  ₹ 2,15,000  \n",
       "1                 Phule Nagar, Pune, Maharashtra  ₹ 5,75,000  \n",
       "2                       Manuti, Thrissur, Kerala  ₹ 2,45,000  \n",
       "3                  Usmanpura, Ahmedabad, Gujarat  ₹ 9,49,999  \n",
       "4                      Ezhamkulam, Adoor, Kerala  ₹ 4,95,000  "
      ]
     },
     "execution_count": 2,
     "metadata": {},
     "output_type": "execute_result"
    }
   ],
   "source": [
    "# Read the dataset\n",
    "dataset = pd.read_csv(\"Olx_Car_Dataset.csv\",index_col=0,na_values=\"-\")\n",
    "dataset.head()"
   ]
  },
  {
   "cell_type": "code",
   "execution_count": 3,
   "metadata": {},
   "outputs": [],
   "source": [
    "# Copying dataset\n",
    "data = dataset.copy()"
   ]
  },
  {
   "cell_type": "code",
   "execution_count": 4,
   "metadata": {},
   "outputs": [
    {
     "data": {
      "text/plain": [
       "(492, 10)"
      ]
     },
     "execution_count": 4,
     "metadata": {},
     "output_type": "execute_result"
    }
   ],
   "source": [
    "data.shape"
   ]
  },
  {
   "cell_type": "code",
   "execution_count": 5,
   "metadata": {},
   "outputs": [
    {
     "data": {
      "text/plain": [
       "Brand                24\n",
       "Model                26\n",
       "Variant              26\n",
       "Year                 27\n",
       "driven kilometers    43\n",
       "fuel                 30\n",
       "Transmission         37\n",
       "number of owners     69\n",
       "location             13\n",
       "Price                13\n",
       "dtype: int64"
      ]
     },
     "execution_count": 5,
     "metadata": {},
     "output_type": "execute_result"
    }
   ],
   "source": [
    "data.isnull().sum()"
   ]
  },
  {
   "cell_type": "code",
   "execution_count": 6,
   "metadata": {},
   "outputs": [
    {
     "name": "stdout",
     "output_type": "stream",
     "text": [
      "Maruti Suzuki      125\n",
      "Hyundai             88\n",
      "Mahindra            34\n",
      "Toyota              33\n",
      "Ford                25\n",
      "Honda               24\n",
      "Tata                22\n",
      "Chevrolet           15\n",
      "Volkswagen          15\n",
      "BMW                 13\n",
      "Skoda               11\n",
      "Audi                11\n",
      "Renault             10\n",
      "Mercedes-Benz        7\n",
      "Datsun               5\n",
      "Nissan               4\n",
      "Volvo                3\n",
      "Jeep                 3\n",
      "Fiat                 3\n",
      "Mitsubishi           2\n",
      "Other Brands         2\n",
      "For Sale             2\n",
      "iPhone               2\n",
      "Land Rover           2\n",
      "Bentley              1\n",
      "Jaguar               1\n",
      "Ambassador           1\n",
      "Houses & Villas      1\n",
      "MG                   1\n",
      "Bajaj                1\n",
      "Kia                  1\n",
      "Name: Brand, dtype: int64\n",
      "--------------------------------------\n",
      "Swift          20\n",
      "Swift Dzire    18\n",
      "i10            16\n",
      "Wagon R        14\n",
      "City           14\n",
      "               ..\n",
      "Optra           1\n",
      "V40             1\n",
      "Fiesta          1\n",
      "S Cross         1\n",
      "Tigor           1\n",
      "Name: Model, Length: 136, dtype: int64\n",
      "--------------------------------------\n",
      "VXI                         14\n",
      "Others                      14\n",
      "VDI                          8\n",
      "LXI                          7\n",
      "1.2 Kappa Magna              6\n",
      "                            ..\n",
      "2002-2011 W2 (AT)            1\n",
      "1.2 MPI Comfortline Plus     1\n",
      "1.2 MPI Highline Plus        1\n",
      "2.5 G (Diesel) 7 Seater      1\n",
      "Petrol Spotz                 1\n",
      "Name: Variant, Length: 341, dtype: int64\n",
      "--------------------------------------\n",
      "2012         47\n",
      "2015         41\n",
      "2014         39\n",
      "2016         38\n",
      "2013         37\n",
      "2018         37\n",
      "2017         36\n",
      "2011         33\n",
      "2010         29\n",
      "2009         28\n",
      "2019         20\n",
      "2007         14\n",
      "2008         14\n",
      "2020          9\n",
      "2006          9\n",
      "Petrol        7\n",
      "Diesel        6\n",
      "2002          3\n",
      "2003          3\n",
      "2005          2\n",
      "2004          2\n",
      "2021          1\n",
      "5,555 km      1\n",
      "86,273 km     1\n",
      "2012.0        1\n",
      "1997          1\n",
      "32            1\n",
      "4,000 km      1\n",
      "2001          1\n",
      "13,800 km     1\n",
      "1967          1\n",
      "2000          1\n",
      "Name: Year, dtype: int64\n",
      "--------------------------------------\n",
      "70,000 km    15\n",
      "80,000 km    14\n",
      "60,000 km    10\n",
      "1st           8\n",
      "45,000 km     7\n",
      "             ..\n",
      "36,523 km     1\n",
      "79,386 km     1\n",
      "76,002 km     1\n",
      "30,000 km     1\n",
      "53,232 km     1\n",
      "Name: driven kilometers, Length: 228, dtype: int64\n",
      "--------------------------------------\n",
      "Diesel           240\n",
      "Petrol           183\n",
      "CNG & Hybrids     15\n",
      "Manual            10\n",
      "LPG                3\n",
      "9 km               1\n",
      "666 km             1\n",
      "55 km              1\n",
      "32                 1\n",
      "5 km               1\n",
      "1000               1\n",
      "89,912 km          1\n",
      "1st                1\n",
      "13 km              1\n",
      "53,037 km          1\n",
      "Automatic          1\n",
      "Name: fuel, dtype: int64\n",
      "--------------------------------------\n",
      "Manual        357\n",
      "Automatic      78\n",
      "70,000 km       2\n",
      "26,000 km       1\n",
      "69,500 km       1\n",
      "32,000 km       1\n",
      "58,000 km       1\n",
      "51,300 km       1\n",
      "45,252 km       1\n",
      "31,000 km       1\n",
      "85,468 km       1\n",
      "28,756 km       1\n",
      "132,000 km      1\n",
      "4th             1\n",
      "36,992 km       1\n",
      "93,000 km       1\n",
      "Yes             1\n",
      "84,400 km       1\n",
      "North           1\n",
      "104,000 km      1\n",
      "38,391 km       1\n",
      "Name: Transmission, dtype: int64\n",
      "--------------------------------------\n",
      "1st    281\n",
      "2nd    122\n",
      "3rd     16\n",
      "4th      2\n",
      "3+       1\n",
      "4+       1\n",
      "Name: number of owners, dtype: int64\n",
      "--------------------------------------\n",
      "Samudrapur, Maharashtra, India                     13\n",
      "Vyttila, Kochi, Kerala                              7\n",
      "Chandigarh Airport Area, Chandigarh, Chandigarh     7\n",
      "Andheri West, Mumbai, Maharashtra                   6\n",
      "Bandra West, Mumbai, Maharashtra                    6\n",
      "                                                   ..\n",
      "Rasta Peth, Pune, Maharashtra                       1\n",
      "Jawahar Nagar, Ludhiana, Punjab                     1\n",
      "Mohan Ke Uttar 168, Guru Har Sahai, Punjab          1\n",
      "Ramesh Nagar, Delhi, Delhi                          1\n",
      "Friends Colony, Mukerian, Punjab                    1\n",
      "Name: location, Length: 320, dtype: int64\n",
      "--------------------------------------\n",
      "₹ 3,25,000     11\n",
      "₹ 2,50,000      7\n",
      "₹ 4,50,000      7\n",
      "₹ 2,75,000      6\n",
      "₹ 4,75,000      6\n",
      "               ..\n",
      "₹ 19,50,000     1\n",
      "₹ 12,25,000     1\n",
      "₹ 3,60,000      1\n",
      "₹ 5,35,000      1\n",
      "₹ 98,000        1\n",
      "Name: Price, Length: 253, dtype: int64\n",
      "--------------------------------------\n"
     ]
    }
   ],
   "source": [
    "# Checking unique values\n",
    "col = data.columns\n",
    "\n",
    "for i in col:\n",
    "    print(data[i].value_counts())\n",
    "    print(\"--------------------------------------\")"
   ]
  },
  {
   "cell_type": "markdown",
   "metadata": {},
   "source": [
    "#### Observation :\n",
    "\n",
    "1. We have a null values in dataset\n",
    "2. some of the rows misaligned."
   ]
  },
  {
   "cell_type": "code",
   "execution_count": 7,
   "metadata": {},
   "outputs": [
    {
     "data": {
      "text/plain": [
       "Brand                object\n",
       "Model                object\n",
       "Variant              object\n",
       "Year                 object\n",
       "driven kilometers    object\n",
       "fuel                 object\n",
       "Transmission         object\n",
       "number of owners     object\n",
       "location             object\n",
       "Price                object\n",
       "dtype: object"
      ]
     },
     "execution_count": 7,
     "metadata": {},
     "output_type": "execute_result"
    }
   ],
   "source": [
    "data.dtypes"
   ]
  },
  {
   "cell_type": "code",
   "execution_count": 10,
   "metadata": {},
   "outputs": [],
   "source": [
    "data['Year'] = data['Year'].apply(casting)"
   ]
  },
  {
   "cell_type": "code",
   "execution_count": 9,
   "metadata": {},
   "outputs": [],
   "source": [
    "def casting(x):\n",
    "    try:\n",
    "        return int(x)\n",
    "    except:\n",
    "        return 0"
   ]
  },
  {
   "cell_type": "code",
   "execution_count": 11,
   "metadata": {},
   "outputs": [],
   "source": [
    "data['driven kilometers'] = data['driven kilometers'].str.replace(\"km\",\" \").str.strip().str.replace(\",\",\"\").str.strip()\n",
    "data['driven kilometers'] = data['driven kilometers'].apply(casting)"
   ]
  },
  {
   "cell_type": "code",
   "execution_count": 12,
   "metadata": {},
   "outputs": [],
   "source": [
    "def unknown(value):\n",
    "    fuel = ['Diesel','Petrol','CNG & Hybrids','Manual','LPG']\n",
    "    if value in fuel:\n",
    "        return value\n",
    "    return \"Unknown\""
   ]
  },
  {
   "cell_type": "code",
   "execution_count": 13,
   "metadata": {},
   "outputs": [],
   "source": [
    "data['fuel'] = data['fuel'].apply(unknown)"
   ]
  },
  {
   "cell_type": "code",
   "execution_count": 14,
   "metadata": {},
   "outputs": [],
   "source": [
    "def unknown_trans(value):\n",
    "    trans = ['Manual','Automatic']\n",
    "    if value in trans:\n",
    "        return value\n",
    "    return \"Unknown\""
   ]
  },
  {
   "cell_type": "code",
   "execution_count": 15,
   "metadata": {},
   "outputs": [],
   "source": [
    "data['Transmission'] = data['Transmission'].apply(unknown_trans)"
   ]
  },
  {
   "cell_type": "code",
   "execution_count": 17,
   "metadata": {},
   "outputs": [],
   "source": [
    "location = data['location'].str.split(\",\",expand=True)"
   ]
  },
  {
   "cell_type": "code",
   "execution_count": 18,
   "metadata": {},
   "outputs": [],
   "source": [
    "# Created dataframe for location column\n",
    "location = location.rename({0:\"Street\",1:\"District\",2:\"State\"},axis=1)"
   ]
  },
  {
   "cell_type": "code",
   "execution_count": 19,
   "metadata": {},
   "outputs": [],
   "source": [
    "data['Price'] = data['Price'].str.replace(\"₹\",\"\").str.replace(\",\",\"\").str.strip().astype(float)"
   ]
  },
  {
   "cell_type": "code",
   "execution_count": 20,
   "metadata": {
    "scrolled": true
   },
   "outputs": [],
   "source": [
    "data_new = pd.concat([data,location],axis=1)"
   ]
  },
  {
   "cell_type": "code",
   "execution_count": 21,
   "metadata": {},
   "outputs": [
    {
     "data": {
      "text/html": [
       "<div>\n",
       "<style scoped>\n",
       "    .dataframe tbody tr th:only-of-type {\n",
       "        vertical-align: middle;\n",
       "    }\n",
       "\n",
       "    .dataframe tbody tr th {\n",
       "        vertical-align: top;\n",
       "    }\n",
       "\n",
       "    .dataframe thead th {\n",
       "        text-align: right;\n",
       "    }\n",
       "</style>\n",
       "<table border=\"1\" class=\"dataframe\">\n",
       "  <thead>\n",
       "    <tr style=\"text-align: right;\">\n",
       "      <th></th>\n",
       "      <th>Brand</th>\n",
       "      <th>Model</th>\n",
       "      <th>Variant</th>\n",
       "      <th>Year</th>\n",
       "      <th>driven kilometers</th>\n",
       "      <th>fuel</th>\n",
       "      <th>Transmission</th>\n",
       "      <th>number of owners</th>\n",
       "      <th>location</th>\n",
       "      <th>Price</th>\n",
       "      <th>Street</th>\n",
       "      <th>District</th>\n",
       "      <th>State</th>\n",
       "    </tr>\n",
       "  </thead>\n",
       "  <tbody>\n",
       "    <tr>\n",
       "      <th>0</th>\n",
       "      <td>Ford</td>\n",
       "      <td>Figo</td>\n",
       "      <td>2010-2012 Diesel ZXI</td>\n",
       "      <td>2010</td>\n",
       "      <td>90000</td>\n",
       "      <td>Diesel</td>\n",
       "      <td>Manual</td>\n",
       "      <td>2nd</td>\n",
       "      <td>Ram Krishna Nagar, Vijayawada, Andhra Pradesh</td>\n",
       "      <td>215000.0</td>\n",
       "      <td>Ram Krishna Nagar</td>\n",
       "      <td>Vijayawada</td>\n",
       "      <td>Andhra Pradesh</td>\n",
       "    </tr>\n",
       "    <tr>\n",
       "      <th>1</th>\n",
       "      <td>Ford</td>\n",
       "      <td>Ecosport</td>\n",
       "      <td>1.5 Petrol Ambiente</td>\n",
       "      <td>2015</td>\n",
       "      <td>38000</td>\n",
       "      <td>Petrol</td>\n",
       "      <td>Manual</td>\n",
       "      <td>1st</td>\n",
       "      <td>Phule Nagar, Pune, Maharashtra</td>\n",
       "      <td>575000.0</td>\n",
       "      <td>Phule Nagar</td>\n",
       "      <td>Pune</td>\n",
       "      <td>Maharashtra</td>\n",
       "    </tr>\n",
       "    <tr>\n",
       "      <th>2</th>\n",
       "      <td>Maruti Suzuki</td>\n",
       "      <td>Wagon R</td>\n",
       "      <td>2006-2010 VXI Minor</td>\n",
       "      <td>2009</td>\n",
       "      <td>58720</td>\n",
       "      <td>Petrol</td>\n",
       "      <td>Manual</td>\n",
       "      <td>1st</td>\n",
       "      <td>Manuti, Thrissur, Kerala</td>\n",
       "      <td>245000.0</td>\n",
       "      <td>Manuti</td>\n",
       "      <td>Thrissur</td>\n",
       "      <td>Kerala</td>\n",
       "    </tr>\n",
       "    <tr>\n",
       "      <th>3</th>\n",
       "      <td>Hyundai</td>\n",
       "      <td>Fluidic Verna</td>\n",
       "      <td>1.6 CRDi SX</td>\n",
       "      <td>2018</td>\n",
       "      <td>55000</td>\n",
       "      <td>Diesel</td>\n",
       "      <td>Manual</td>\n",
       "      <td>1st</td>\n",
       "      <td>Usmanpura, Ahmedabad, Gujarat</td>\n",
       "      <td>949999.0</td>\n",
       "      <td>Usmanpura</td>\n",
       "      <td>Ahmedabad</td>\n",
       "      <td>Gujarat</td>\n",
       "    </tr>\n",
       "    <tr>\n",
       "      <th>4</th>\n",
       "      <td>Maruti Suzuki</td>\n",
       "      <td>Swift Dzire</td>\n",
       "      <td>VXI</td>\n",
       "      <td>2015</td>\n",
       "      <td>57091</td>\n",
       "      <td>Petrol</td>\n",
       "      <td>Manual</td>\n",
       "      <td>2nd</td>\n",
       "      <td>Ezhamkulam, Adoor, Kerala</td>\n",
       "      <td>495000.0</td>\n",
       "      <td>Ezhamkulam</td>\n",
       "      <td>Adoor</td>\n",
       "      <td>Kerala</td>\n",
       "    </tr>\n",
       "  </tbody>\n",
       "</table>\n",
       "</div>"
      ],
      "text/plain": [
       "           Brand          Model               Variant  Year  \\\n",
       "0           Ford           Figo  2010-2012 Diesel ZXI  2010   \n",
       "1           Ford       Ecosport   1.5 Petrol Ambiente  2015   \n",
       "2  Maruti Suzuki        Wagon R   2006-2010 VXI Minor  2009   \n",
       "3        Hyundai  Fluidic Verna           1.6 CRDi SX  2018   \n",
       "4  Maruti Suzuki    Swift Dzire                   VXI  2015   \n",
       "\n",
       "   driven kilometers    fuel Transmission number of owners  \\\n",
       "0              90000  Diesel       Manual              2nd   \n",
       "1              38000  Petrol       Manual              1st   \n",
       "2              58720  Petrol       Manual              1st   \n",
       "3              55000  Diesel       Manual              1st   \n",
       "4              57091  Petrol       Manual              2nd   \n",
       "\n",
       "                                        location     Price             Street  \\\n",
       "0  Ram Krishna Nagar, Vijayawada, Andhra Pradesh  215000.0  Ram Krishna Nagar   \n",
       "1                 Phule Nagar, Pune, Maharashtra  575000.0        Phule Nagar   \n",
       "2                       Manuti, Thrissur, Kerala  245000.0             Manuti   \n",
       "3                  Usmanpura, Ahmedabad, Gujarat  949999.0          Usmanpura   \n",
       "4                      Ezhamkulam, Adoor, Kerala  495000.0         Ezhamkulam   \n",
       "\n",
       "      District            State  \n",
       "0   Vijayawada   Andhra Pradesh  \n",
       "1         Pune      Maharashtra  \n",
       "2     Thrissur           Kerala  \n",
       "3    Ahmedabad          Gujarat  \n",
       "4        Adoor           Kerala  "
      ]
     },
     "execution_count": 21,
     "metadata": {},
     "output_type": "execute_result"
    }
   ],
   "source": [
    "data_new.head()"
   ]
  },
  {
   "cell_type": "code",
   "execution_count": 22,
   "metadata": {},
   "outputs": [],
   "source": [
    "data_new.drop('location',axis=1,inplace=True)"
   ]
  },
  {
   "cell_type": "code",
   "execution_count": 23,
   "metadata": {},
   "outputs": [],
   "source": [
    "## Saving cleaned data\n",
    "data_new.to_csv(\"car_data_Clean.csv\")"
   ]
  },
  {
   "cell_type": "markdown",
   "metadata": {},
   "source": [
    "### Checking null values"
   ]
  },
  {
   "cell_type": "code",
   "execution_count": 24,
   "metadata": {},
   "outputs": [
    {
     "data": {
      "text/plain": [
       "Brand                24\n",
       "Model                26\n",
       "Variant              26\n",
       "Year                  0\n",
       "driven kilometers     0\n",
       "fuel                  0\n",
       "Transmission          0\n",
       "number of owners     69\n",
       "Price                13\n",
       "Street               13\n",
       "District             13\n",
       "State                13\n",
       "dtype: int64"
      ]
     },
     "execution_count": 24,
     "metadata": {},
     "output_type": "execute_result"
    }
   ],
   "source": [
    "data_new.isnull().sum()"
   ]
  },
  {
   "cell_type": "markdown",
   "metadata": {},
   "source": [
    "**Observation :**\n",
    "    \n",
    "    Null value present in data we need to handle that."
   ]
  },
  {
   "cell_type": "code",
   "execution_count": 25,
   "metadata": {},
   "outputs": [
    {
     "data": {
      "text/html": [
       "<div>\n",
       "<style scoped>\n",
       "    .dataframe tbody tr th:only-of-type {\n",
       "        vertical-align: middle;\n",
       "    }\n",
       "\n",
       "    .dataframe tbody tr th {\n",
       "        vertical-align: top;\n",
       "    }\n",
       "\n",
       "    .dataframe thead th {\n",
       "        text-align: right;\n",
       "    }\n",
       "</style>\n",
       "<table border=\"1\" class=\"dataframe\">\n",
       "  <thead>\n",
       "    <tr style=\"text-align: right;\">\n",
       "      <th></th>\n",
       "      <th>Year</th>\n",
       "      <th>driven kilometers</th>\n",
       "      <th>Price</th>\n",
       "    </tr>\n",
       "  </thead>\n",
       "  <tbody>\n",
       "    <tr>\n",
       "      <th>count</th>\n",
       "      <td>492.000000</td>\n",
       "      <td>492.000000</td>\n",
       "      <td>4.790000e+02</td>\n",
       "    </tr>\n",
       "    <tr>\n",
       "      <th>mean</th>\n",
       "      <td>1824.943089</td>\n",
       "      <td>60990.656504</td>\n",
       "      <td>6.809547e+05</td>\n",
       "    </tr>\n",
       "    <tr>\n",
       "      <th>std</th>\n",
       "      <td>586.475684</td>\n",
       "      <td>51163.720033</td>\n",
       "      <td>1.650273e+06</td>\n",
       "    </tr>\n",
       "    <tr>\n",
       "      <th>min</th>\n",
       "      <td>0.000000</td>\n",
       "      <td>0.000000</td>\n",
       "      <td>2.500000e+02</td>\n",
       "    </tr>\n",
       "    <tr>\n",
       "      <th>25%</th>\n",
       "      <td>2009.000000</td>\n",
       "      <td>35000.000000</td>\n",
       "      <td>2.450000e+05</td>\n",
       "    </tr>\n",
       "    <tr>\n",
       "      <th>50%</th>\n",
       "      <td>2013.000000</td>\n",
       "      <td>60000.000000</td>\n",
       "      <td>4.250000e+05</td>\n",
       "    </tr>\n",
       "    <tr>\n",
       "      <th>75%</th>\n",
       "      <td>2016.000000</td>\n",
       "      <td>80464.750000</td>\n",
       "      <td>7.000000e+05</td>\n",
       "    </tr>\n",
       "    <tr>\n",
       "      <th>max</th>\n",
       "      <td>2021.000000</td>\n",
       "      <td>780000.000000</td>\n",
       "      <td>3.200000e+07</td>\n",
       "    </tr>\n",
       "  </tbody>\n",
       "</table>\n",
       "</div>"
      ],
      "text/plain": [
       "              Year  driven kilometers         Price\n",
       "count   492.000000         492.000000  4.790000e+02\n",
       "mean   1824.943089       60990.656504  6.809547e+05\n",
       "std     586.475684       51163.720033  1.650273e+06\n",
       "min       0.000000           0.000000  2.500000e+02\n",
       "25%    2009.000000       35000.000000  2.450000e+05\n",
       "50%    2013.000000       60000.000000  4.250000e+05\n",
       "75%    2016.000000       80464.750000  7.000000e+05\n",
       "max    2021.000000      780000.000000  3.200000e+07"
      ]
     },
     "execution_count": 25,
     "metadata": {},
     "output_type": "execute_result"
    }
   ],
   "source": [
    "### Statistical summary:\n",
    "data_new.describe()"
   ]
  },
  {
   "cell_type": "markdown",
   "metadata": {},
   "source": [
    "### Checking distribution of the data"
   ]
  },
  {
   "cell_type": "code",
   "execution_count": 27,
   "metadata": {},
   "outputs": [
    {
     "data": {
      "text/plain": [
       "<AxesSubplot:xlabel='driven kilometers', ylabel='Count'>"
      ]
     },
     "execution_count": 27,
     "metadata": {},
     "output_type": "execute_result"
    },
    {
     "data": {
      "image/png": "[encoded data removed]",
      "text/plain": [
       "<Figure size 432x288 with 1 Axes>"
      ]
     },
     "metadata": {
      "needs_background": "light"
     },
     "output_type": "display_data"
    }
   ],
   "source": [
    "sns.histplot(data_new['driven kilometers'],bins=50)"
   ]
  },
  {
   "cell_type": "code",
   "execution_count": 28,
   "metadata": {},
   "outputs": [
    {
     "name": "stderr",
     "output_type": "stream",
     "text": [
      "C:\\Users\\SIVA\\anaconda3\\lib\\site-packages\\seaborn\\distributions.py:2551: FutureWarning: `distplot` is a deprecated function and will be removed in a future version. Please adapt your code to use either `displot` (a figure-level function with similar flexibility) or `histplot` (an axes-level function for histograms).\n",
      "  warnings.warn(msg, FutureWarning)\n"
     ]
    },
    {
     "data": {
      "text/plain": [
       "<AxesSubplot:xlabel='Price', ylabel='Density'>"
      ]
     },
     "execution_count": 28,
     "metadata": {},
     "output_type": "execute_result"
    },
    {
     "data": {
      "image/png": "[encoded data removed]",
      "text/plain": [
       "<Figure size 432x288 with 1 Axes>"
      ]
     },
     "metadata": {
      "needs_background": "light"
     },
     "output_type": "display_data"
    }
   ],
   "source": [
    "sns.distplot(data_new['Price'],bins=100)"
   ]
  },
  {
   "cell_type": "code",
   "execution_count": 29,
   "metadata": {},
   "outputs": [
    {
     "data": {
      "text/plain": [
       "<AxesSubplot:xlabel='driven kilometers', ylabel='Price'>"
      ]
     },
     "execution_count": 29,
     "metadata": {},
     "output_type": "execute_result"
    },
    {
     "data": {
      "image/png": "[encoded data removed]",
      "text/plain": [
       "<Figure size 432x288 with 1 Axes>"
      ]
     },
     "metadata": {
      "needs_background": "light"
     },
     "output_type": "display_data"
    }
   ],
   "source": [
    "# relation between km and price\n",
    "\n",
    "sns.scatterplot(data=data,x='driven kilometers',y='Price')"
   ]
  },
  {
   "cell_type": "code",
   "execution_count": 30,
   "metadata": {},
   "outputs": [],
   "source": [
    "# We can clearly observe if km increse price will be decrese"
   ]
  },
  {
   "cell_type": "code",
   "execution_count": 31,
   "metadata": {},
   "outputs": [
    {
     "data": {
      "text/plain": [
       "fuel\n",
       "LPG              1.366667e+05\n",
       "CNG & Hybrids    2.249000e+05\n",
       "Manual           4.833000e+05\n",
       "Petrol           4.940538e+05\n",
       "Diesel           7.881108e+05\n",
       "Unknown          1.357227e+06\n",
       "Name: Price, dtype: float64"
      ]
     },
     "execution_count": 31,
     "metadata": {},
     "output_type": "execute_result"
    }
   ],
   "source": [
    "data_new.groupby(['fuel']).mean()['Price'].sort_values()"
   ]
  },
  {
   "cell_type": "markdown",
   "metadata": {},
   "source": [
    "We can observe some insights from the above data\n",
    "\n",
    "Diesel car price more cost comparing all other fuels"
   ]
  },
  {
   "cell_type": "code",
   "execution_count": 32,
   "metadata": {},
   "outputs": [
    {
     "data": {
      "text/plain": [
       "<AxesSubplot:xlabel='Transmission'>"
      ]
     },
     "execution_count": 32,
     "metadata": {},
     "output_type": "execute_result"
    },
    {
     "data": {
      "image/png": "[encoded data removed]",
      "text/plain": [
       "<Figure size 432x288 with 1 Axes>"
      ]
     },
     "metadata": {
      "needs_background": "light"
     },
     "output_type": "display_data"
    }
   ],
   "source": [
    "data_new.groupby(['Transmission']).mean()['Price'].plot(kind='bar')"
   ]
  },
  {
   "cell_type": "code",
   "execution_count": null,
   "metadata": {},
   "outputs": [],
   "source": [
    "# Automatic car price is more"
   ]
  },
  {
   "cell_type": "code",
   "execution_count": 33,
   "metadata": {},
   "outputs": [
    {
     "data": {
      "text/plain": [
       "<AxesSubplot:xlabel='Year'>"
      ]
     },
     "execution_count": 33,
     "metadata": {},
     "output_type": "execute_result"
    },
    {
     "data": {
      "image/png": "[encoded data removed]",
      "text/plain": [
       "<Figure size 432x288 with 1 Axes>"
      ]
     },
     "metadata": {
      "needs_background": "light"
     },
     "output_type": "display_data"
    }
   ],
   "source": [
    "data_new.groupby(['Year']).mean()['Price'].plot(kind='bar')"
   ]
  },
  {
   "cell_type": "markdown",
   "metadata": {},
   "source": [
    "if latest car price will be more and old car price less."
   ]
  },
  {
   "cell_type": "markdown",
   "metadata": {},
   "source": [
    "### Feature Engineering\n",
    "\n",
    "- Handle null value\n",
    "\n",
    "- Remove outlier\n",
    "\n",
    "- corr\n",
    "\n",
    "- Label encoding \n",
    "\n",
    "- scaling the data"
   ]
  },
  {
   "cell_type": "code",
   "execution_count": 34,
   "metadata": {},
   "outputs": [],
   "source": [
    "from sklearn.impute import SimpleImputer"
   ]
  },
  {
   "cell_type": "code",
   "execution_count": 37,
   "metadata": {},
   "outputs": [],
   "source": [
    "imputer = SimpleImputer(strategy=\"constant\",fill_value='Missing')\n",
    "data_new['Brand'] = imputer.fit_transform(data_new['Brand'].values.reshape(-1, 1))"
   ]
  },
  {
   "cell_type": "code",
   "execution_count": 44,
   "metadata": {},
   "outputs": [],
   "source": [
    "cat_list = ['Model','Variant','Street','District','State']\n",
    "\n",
    "for i in cat_list:\n",
    "    data_new[i] = imputer.fit_transform(data_new[i].values.reshape(-1, 1))"
   ]
  },
  {
   "cell_type": "code",
   "execution_count": 46,
   "metadata": {},
   "outputs": [],
   "source": [
    "imputer = SimpleImputer(strategy=\"most_frequent\")\n",
    "data_new['number of owners'] = imputer.fit_transform(data_new['number of owners'].values.reshape(-1, 1))"
   ]
  },
  {
   "cell_type": "code",
   "execution_count": 47,
   "metadata": {},
   "outputs": [],
   "source": [
    "imputer = SimpleImputer(strategy=\"mean\")\n",
    "data_new['Price'] = imputer.fit_transform(data_new['Price'].values.reshape(-1, 1))"
   ]
  },
  {
   "cell_type": "code",
   "execution_count": 49,
   "metadata": {},
   "outputs": [],
   "source": [
    "### All null values is handled as per the type of column"
   ]
  },
  {
   "cell_type": "code",
   "execution_count": 48,
   "metadata": {},
   "outputs": [
    {
     "data": {
      "text/plain": [
       "Brand                0\n",
       "Model                0\n",
       "Variant              0\n",
       "Year                 0\n",
       "driven kilometers    0\n",
       "fuel                 0\n",
       "Transmission         0\n",
       "number of owners     0\n",
       "Price                0\n",
       "Street               0\n",
       "District             0\n",
       "State                0\n",
       "dtype: int64"
      ]
     },
     "execution_count": 48,
     "metadata": {},
     "output_type": "execute_result"
    }
   ],
   "source": [
    "data_new.isna().sum()"
   ]
  },
  {
   "cell_type": "markdown",
   "metadata": {},
   "source": [
    "## Lable Encoding the string variables"
   ]
  },
  {
   "cell_type": "code",
   "execution_count": 60,
   "metadata": {},
   "outputs": [],
   "source": [
    "cat_col = data_new.select_dtypes(\"object\").columns.values"
   ]
  },
  {
   "cell_type": "code",
   "execution_count": 62,
   "metadata": {},
   "outputs": [],
   "source": [
    "from sklearn.preprocessing import LabelEncoder\n",
    "label = LabelEncoder()"
   ]
  },
  {
   "cell_type": "code",
   "execution_count": 63,
   "metadata": {},
   "outputs": [
    {
     "data": {
      "text/html": [
       "<div>\n",
       "<style scoped>\n",
       "    .dataframe tbody tr th:only-of-type {\n",
       "        vertical-align: middle;\n",
       "    }\n",
       "\n",
       "    .dataframe tbody tr th {\n",
       "        vertical-align: top;\n",
       "    }\n",
       "\n",
       "    .dataframe thead th {\n",
       "        text-align: right;\n",
       "    }\n",
       "</style>\n",
       "<table border=\"1\" class=\"dataframe\">\n",
       "  <thead>\n",
       "    <tr style=\"text-align: right;\">\n",
       "      <th></th>\n",
       "      <th>Brand</th>\n",
       "      <th>Model</th>\n",
       "      <th>Variant</th>\n",
       "      <th>Year</th>\n",
       "      <th>driven kilometers</th>\n",
       "      <th>fuel</th>\n",
       "      <th>Transmission</th>\n",
       "      <th>number of owners</th>\n",
       "      <th>Price</th>\n",
       "      <th>Street</th>\n",
       "      <th>District</th>\n",
       "      <th>State</th>\n",
       "    </tr>\n",
       "  </thead>\n",
       "  <tbody>\n",
       "    <tr>\n",
       "      <th>0</th>\n",
       "      <td>9</td>\n",
       "      <td>52</td>\n",
       "      <td>127</td>\n",
       "      <td>2010</td>\n",
       "      <td>90000</td>\n",
       "      <td>1</td>\n",
       "      <td>1</td>\n",
       "      <td>1</td>\n",
       "      <td>215000.0</td>\n",
       "      <td>212</td>\n",
       "      <td>122</td>\n",
       "      <td>0</td>\n",
       "    </tr>\n",
       "    <tr>\n",
       "      <th>1</th>\n",
       "      <td>9</td>\n",
       "      <td>41</td>\n",
       "      <td>46</td>\n",
       "      <td>2015</td>\n",
       "      <td>38000</td>\n",
       "      <td>4</td>\n",
       "      <td>1</td>\n",
       "      <td>0</td>\n",
       "      <td>575000.0</td>\n",
       "      <td>194</td>\n",
       "      <td>93</td>\n",
       "      <td>14</td>\n",
       "    </tr>\n",
       "    <tr>\n",
       "      <th>2</th>\n",
       "      <td>19</td>\n",
       "      <td>120</td>\n",
       "      <td>105</td>\n",
       "      <td>2009</td>\n",
       "      <td>58720</td>\n",
       "      <td>4</td>\n",
       "      <td>1</td>\n",
       "      <td>0</td>\n",
       "      <td>245000.0</td>\n",
       "      <td>158</td>\n",
       "      <td>113</td>\n",
       "      <td>12</td>\n",
       "    </tr>\n",
       "    <tr>\n",
       "      <th>3</th>\n",
       "      <td>12</td>\n",
       "      <td>53</td>\n",
       "      <td>55</td>\n",
       "      <td>2018</td>\n",
       "      <td>55000</td>\n",
       "      <td>1</td>\n",
       "      <td>1</td>\n",
       "      <td>0</td>\n",
       "      <td>949999.0</td>\n",
       "      <td>294</td>\n",
       "      <td>2</td>\n",
       "      <td>6</td>\n",
       "    </tr>\n",
       "    <tr>\n",
       "      <th>4</th>\n",
       "      <td>19</td>\n",
       "      <td>113</td>\n",
       "      <td>314</td>\n",
       "      <td>2015</td>\n",
       "      <td>57091</td>\n",
       "      <td>4</td>\n",
       "      <td>1</td>\n",
       "      <td>1</td>\n",
       "      <td>495000.0</td>\n",
       "      <td>73</td>\n",
       "      <td>0</td>\n",
       "      <td>12</td>\n",
       "    </tr>\n",
       "  </tbody>\n",
       "</table>\n",
       "</div>"
      ],
      "text/plain": [
       "   Brand  Model  Variant  Year  driven kilometers  fuel  Transmission  \\\n",
       "0      9     52      127  2010              90000     1             1   \n",
       "1      9     41       46  2015              38000     4             1   \n",
       "2     19    120      105  2009              58720     4             1   \n",
       "3     12     53       55  2018              55000     1             1   \n",
       "4     19    113      314  2015              57091     4             1   \n",
       "\n",
       "   number of owners     Price  Street  District  State  \n",
       "0                 1  215000.0     212       122      0  \n",
       "1                 0  575000.0     194        93     14  \n",
       "2                 0  245000.0     158       113     12  \n",
       "3                 0  949999.0     294         2      6  \n",
       "4                 1  495000.0      73         0     12  "
      ]
     },
     "execution_count": 63,
     "metadata": {},
     "output_type": "execute_result"
    }
   ],
   "source": [
    "for i in cat_col:\n",
    "    data_new[i] = label.fit_transform(data_new[i])\n",
    "    \n",
    "data_new.head()"
   ]
  },
  {
   "cell_type": "markdown",
   "metadata": {},
   "source": [
    "### Spliting variable for traning and testing"
   ]
  },
  {
   "cell_type": "code",
   "execution_count": 74,
   "metadata": {},
   "outputs": [],
   "source": [
    "from sklearn.model_selection import train_test_split\n",
    "from sklearn.linear_model import LinearRegression\n",
    "from sklearn.linear_model import Lasso,Ridge\n",
    "from sklearn.metrics import r2_score,mean_squared_error,mean_absolute_error"
   ]
  },
  {
   "cell_type": "code",
   "execution_count": 68,
   "metadata": {},
   "outputs": [],
   "source": [
    "X= data_new.drop(columns=['Price'],axis=1)\n",
    "y = data_new['Price']"
   ]
  },
  {
   "cell_type": "code",
   "execution_count": 71,
   "metadata": {},
   "outputs": [
    {
     "data": {
      "text/plain": [
       "StandardScaler()"
      ]
     },
     "execution_count": 71,
     "metadata": {},
     "output_type": "execute_result"
    }
   ],
   "source": [
    "# Standarder Scaling\n",
    "from sklearn.preprocessing import StandardScaler\n",
    "\n",
    "scale = StandardScaler()\n",
    "scale.fit(X)"
   ]
  },
  {
   "cell_type": "code",
   "execution_count": 77,
   "metadata": {},
   "outputs": [
    {
     "name": "stdout",
     "output_type": "stream",
     "text": [
      "Best random state :99 and Test r2 score:0.13711429769606798\n"
     ]
    }
   ],
   "source": [
    "maxScore = 0\n",
    "maxRS = 0\n",
    "\n",
    "for i in range(1,100):\n",
    "    x_train,x_test,y_train,y_test=train_test_split(X,y,test_size=0.30,random_state=i)\n",
    "    lr = LinearRegression()\n",
    "    lr.fit(x_train,y_train)\n",
    "    pred_test = lr.predict(x_test)\n",
    "    score = r2_score(y_test,pred_test)\n",
    "    if score > maxScore:\n",
    "        maxScore = score\n",
    "        maxRS = i\n",
    "        \n",
    "print(f\"Best random state :{i} and Test r2 score:{maxScore}\")"
   ]
  },
  {
   "cell_type": "code",
   "execution_count": 78,
   "metadata": {},
   "outputs": [],
   "source": [
    "x_train,x_test,y_train,y_test=train_test_split(X,y,test_size=0.30,random_state=99)"
   ]
  },
  {
   "cell_type": "code",
   "execution_count": 79,
   "metadata": {},
   "outputs": [],
   "source": [
    "## Performance of model\n",
    "def performance(actual,prec):\n",
    "    print(\"error\")\n",
    "    print(\"Mean absolute error\",mean_absolute_error(actual,prec))\n",
    "    print(\"mean square error\",mean_squared_error(actual,prec))\n",
    "    print(\"R2 Score :\",r2_score(actual,prec))"
   ]
  },
  {
   "cell_type": "code",
   "execution_count": 80,
   "metadata": {},
   "outputs": [
    {
     "name": "stdout",
     "output_type": "stream",
     "text": [
      "error\n",
      "Mean absolute error 466039.9059619074\n",
      "mean square error 927441789732.2208\n",
      "R2 Score : -0.007150095443355209\n"
     ]
    }
   ],
   "source": [
    "# Linear Regression\n",
    "lr = LinearRegression()\n",
    "lr.fit(x_train,y_train)\n",
    "prec =lr.predict(x_test)\n",
    "performance(y_test,prec)"
   ]
  },
  {
   "cell_type": "code",
   "execution_count": 81,
   "metadata": {},
   "outputs": [],
   "source": [
    "# Cross validation\n",
    "from sklearn.model_selection import cross_val_score"
   ]
  },
  {
   "cell_type": "code",
   "execution_count": 83,
   "metadata": {},
   "outputs": [
    {
     "data": {
      "text/plain": [
       "0.0022781889719178496"
      ]
     },
     "execution_count": 83,
     "metadata": {},
     "output_type": "execute_result"
    }
   ],
   "source": [
    "cross_ls = cross_val_score(LinearRegression(),X,y,cv=10)\n",
    "cross_ls.mean()"
   ]
  },
  {
   "cell_type": "code",
   "execution_count": 88,
   "metadata": {},
   "outputs": [],
   "source": [
    "### Regularation Process\n",
    "from sklearn.linear_model import Lasso"
   ]
  },
  {
   "cell_type": "code",
   "execution_count": 85,
   "metadata": {},
   "outputs": [
    {
     "name": "stdout",
     "output_type": "stream",
     "text": [
      "error\n",
      "Mean absolute error 466039.90595356515\n",
      "mean square error 927441789730.3647\n",
      "R2 Score : -0.007150095441339488\n"
     ]
    }
   ],
   "source": [
    "# Lasso Regrssion\n",
    "le =Lasso(alpha=0.0001)\n",
    "le.fit(x_train,y_train)\n",
    "predict = le.predict(x_test)\n",
    "\n",
    "performance(y_test,predict)"
   ]
  },
  {
   "cell_type": "code",
   "execution_count": 87,
   "metadata": {},
   "outputs": [
    {
     "data": {
      "text/plain": [
       "0.002278189086679061"
      ]
     },
     "execution_count": 87,
     "metadata": {},
     "output_type": "execute_result"
    }
   ],
   "source": [
    "cross_Val = cross_val_score(le,X,y,cv=10)\n",
    "cross_Val.mean()"
   ]
  },
  {
   "cell_type": "markdown",
   "metadata": {},
   "source": [
    "### Saving the model"
   ]
  },
  {
   "cell_type": "code",
   "execution_count": 90,
   "metadata": {},
   "outputs": [],
   "source": [
    "import joblib"
   ]
  },
  {
   "cell_type": "code",
   "execution_count": 91,
   "metadata": {},
   "outputs": [],
   "source": [
    "Model_1 = joblib.dump(lr,\"Car_Price.obj\")"
   ]
  },
  {
   "cell_type": "code",
   "execution_count": null,
   "metadata": {},
   "outputs": [],
   "source": []
  }
 ],
 "metadata": {
  "kernelspec": {
   "display_name": "Python 3",
   "language": "python",
   "name": "python3"
  },
  "language_info": {
   "codemirror_mode": {
    "name": "ipython",
    "version": 3
   },
   "file_extension": ".py",
   "mimetype": "text/x-python",
   "name": "python",
   "nbconvert_exporter": "python",
   "pygments_lexer": "ipython3",
   "version": "3.8.5"
  }
 },
 "nbformat": 4,
 "nbformat_minor": 4
}
